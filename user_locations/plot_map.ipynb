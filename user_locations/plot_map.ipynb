{
 "cells": [
  {
   "cell_type": "code",
   "execution_count": 1,
   "metadata": {},
   "outputs": [],
   "source": [
    "import folium\n",
    "import pandas as pd"
   ]
  },
  {
   "cell_type": "code",
   "execution_count": 2,
   "metadata": {},
   "outputs": [],
   "source": [
    "res=pd.read_csv('res_location.csv',index_col='res')"
   ]
  },
  {
   "cell_type": "code",
   "execution_count": 3,
   "metadata": {},
   "outputs": [],
   "source": [
    "u_del_cent=pd.read_csv('user_del_cent.csv',index_col='user_id')"
   ]
  },
  {
   "cell_type": "code",
   "execution_count": 4,
   "metadata": {},
   "outputs": [],
   "source": [
    "u_res_cent=pd.read_csv('user_res_cent.csv',index_col='user_id')"
   ]
  },
  {
   "cell_type": "code",
   "execution_count": 5,
   "metadata": {},
   "outputs": [
    {
     "name": "stdout",
     "output_type": "stream",
     "text": [
      "4749\r"
     ]
    }
   ],
   "source": [
    "d=[]\n",
    "for i in u_res_cent.index:\n",
    "    if i not in u_del_cent.index:\n",
    "        d.append(i)\n",
    "        print(len(d),end='\\r')\n",
    "u_res_cent=u_res_cent.drop(d)"
   ]
  },
  {
   "cell_type": "code",
   "execution_count": 6,
   "metadata": {},
   "outputs": [],
   "source": [
    "def modify(s):\n",
    "    l=s.split(',')\n",
    "    p=[float(x[:6]) for x in l[::2]]\n",
    "    q=[float(x[:6]) for x in l[1::2]]\n",
    "    r=[]\n",
    "    for i in range(len(p)):\n",
    "        r.append([p[i],q[i]])\n",
    "    return r"
   ]
  },
  {
   "cell_type": "code",
   "execution_count": 7,
   "metadata": {},
   "outputs": [],
   "source": [
    "for i in range(u_del_cent.shape[0]):\n",
    "    u_del_cent.iloc[i]['centroid']=modify(u_del_cent.iloc[i]['centroid'])\n",
    "for i in range(u_res_cent.shape[0]):\n",
    "    u_res_cent.iloc[i]['centroid']=modify(u_res_cent.iloc[i]['centroid'])"
   ]
  },
  {
   "cell_type": "code",
   "execution_count": 8,
   "metadata": {},
   "outputs": [],
   "source": [
    "u_del_res=pd.read_csv('user_del_res.csv',index_col='user_id')\n",
    "u_rev_res=pd.read_csv('user_res_list.csv',index_col='user_id')"
   ]
  },
  {
   "cell_type": "code",
   "execution_count": 9,
   "metadata": {},
   "outputs": [],
   "source": [
    "for i in range(u_del_res.shape[0]):\n",
    "    u_del_res.iloc[i]['res_list']=u_del_res.iloc[i]['res_list'].split(',')\n",
    "for i in range(u_rev_res.shape[0]):\n",
    "    u_rev_res.iloc[i]['res_list']=u_rev_res.iloc[i]['res_list'].split(',')"
   ]
  },
  {
   "cell_type": "code",
   "execution_count": 10,
   "metadata": {},
   "outputs": [
    {
     "name": "stdout",
     "output_type": "stream",
     "text": [
      "11527\r"
     ]
    }
   ],
   "source": [
    "q=0\n",
    "user_del={}\n",
    "for i in u_del_cent.index:\n",
    "    tot=[]\n",
    "    l=u_del_res.loc[i]['res_list']\n",
    "    for li in l:\n",
    "        f={}\n",
    "        if li in res.index:\n",
    "            f['name']=li\n",
    "            f['lat']=float(str(res.loc[li]['lat'])[:6])\n",
    "            f['long']=float(str(res.loc[li]['long'])[:6])\n",
    "            tot.append(f)\n",
    "    if len(tot)>0:\n",
    "        q+=1\n",
    "        print(q,end='\\r')\n",
    "        user_del[i]=pd.DataFrame(tot)"
   ]
  },
  {
   "cell_type": "code",
   "execution_count": 11,
   "metadata": {},
   "outputs": [
    {
     "name": "stdout",
     "output_type": "stream",
     "text": [
      "11527\r"
     ]
    }
   ],
   "source": [
    "q=0\n",
    "user_rev={}\n",
    "for i in u_res_cent.index:\n",
    "    tot=[]\n",
    "    l=u_rev_res.loc[i]['res_list']\n",
    "    for li in l:\n",
    "        f={}\n",
    "        if li in res.index:\n",
    "            f['name']=li\n",
    "            f['lat']=float(str(res.loc[li]['lat'])[:6])\n",
    "            f['long']=float(str(res.loc[li]['long'])[:6])\n",
    "            tot.append(f)\n",
    "    if len(tot)>0:\n",
    "        q+=1\n",
    "        print(q,end='\\r')\n",
    "        user_rev[i]=pd.DataFrame(tot)"
   ]
  },
  {
   "cell_type": "code",
   "execution_count": 14,
   "metadata": {},
   "outputs": [],
   "source": [
    "def get_map(uid):\n",
    "    del_cen=u_del_cent.loc[uid]['centroid']\n",
    "    #print(del_cen[0])\n",
    "    res_cen=u_res_cent.loc[uid]['centroid']\n",
    "    del_data=user_del[uid]\n",
    "    rev_data=user_rev[uid]\n",
    "    m=folium.Map(location=del_cen[0])\n",
    "    fgrr=folium.FeatureGroup(name='Review Restaurants')\n",
    "    for i in range(rev_data.shape[0]):\n",
    "        folium.Marker([rev_data.iloc[i]['lat'], rev_data.iloc[i]['long']], popup=rev_data.iloc[i]['name'],icon=folium.Icon(color='blue', icon='info-sign')).add_to(fgrr)\n",
    "    fgdr=folium.FeatureGroup(name='Delivery Restaurants')\n",
    "    for i in range(del_data.shape[0]):\n",
    "        folium.Marker([del_data.iloc[i]['lat'], del_data.iloc[i]['long']], popup=del_data.iloc[i]['name'],icon=folium.Icon(color='black', icon='info-sign')).add_to(fgdr)\n",
    "    fgdl=folium.FeatureGroup(name='Delivery Locations')\n",
    "    for i in range(len(del_cen)):\n",
    "        folium.Marker(del_cen[i],popup='del addr:{}'.format(i+1),icon=folium.Icon(color='red', icon='remove-sign')).add_to(fgdl)\n",
    "    fgrl=folium.FeatureGroup(name='Eating Locations')\n",
    "    for i in range(len(res_cen)):\n",
    "        folium.Marker(res_cen[i],popup='rev addr:{}'.format(i+1),icon=folium.Icon(color='purple', icon='remove-sign')).add_to(fgrl)\n",
    "    m.add_child(fgrr)\n",
    "    m.add_child(fgdr)\n",
    "    m.add_child(fgrl)\n",
    "    m.add_child(fgdl)\n",
    "    m.add_child(folium.LayerControl())\n",
    "    m.save('maps2/{}.html'.format(uid))\n",
    "    #return m"
   ]
  },
  {
   "cell_type": "code",
   "execution_count": 18,
   "metadata": {},
   "outputs": [],
   "source": [
    "uids=u_del_cent.index"
   ]
  },
  {
   "cell_type": "code",
   "execution_count": null,
   "metadata": {},
   "outputs": [
    {
     "name": "stdout",
     "output_type": "stream",
     "text": [
      "10740\r"
     ]
    }
   ],
   "source": [
    "for i,uid in enumerate(uids):\n",
    "    get_map(uid)\n",
    "    print(i,end='\\r')"
   ]
  },
  {
   "cell_type": "code",
   "execution_count": 17,
   "metadata": {},
   "outputs": [],
   "source": [
    "get_map(1640716)"
   ]
  },
  {
   "cell_type": "code",
   "execution_count": null,
   "metadata": {},
   "outputs": [],
   "source": []
  }
 ],
 "metadata": {
  "kernelspec": {
   "display_name": "Python 3",
   "language": "python",
   "name": "python3"
  },
  "language_info": {
   "codemirror_mode": {
    "name": "ipython",
    "version": 3
   },
   "file_extension": ".py",
   "mimetype": "text/x-python",
   "name": "python",
   "nbconvert_exporter": "python",
   "pygments_lexer": "ipython3",
   "version": "3.7.2"
  }
 },
 "nbformat": 4,
 "nbformat_minor": 2
}
