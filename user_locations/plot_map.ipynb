{
 "cells": [
  {
   "cell_type": "code",
   "execution_count": 64,
   "metadata": {},
   "outputs": [],
   "source": [
    "#import libraries\n",
    "import folium\n",
    "import pandas as pd"
   ]
  },
  {
   "cell_type": "code",
   "execution_count": 65,
   "metadata": {},
   "outputs": [],
   "source": [
    "#get the dataset\n",
    "res_loc = pd.read_csv('res_location.csv',index_col='res')\n",
    "u_del_cent = pd.read_csv('user_del_cent.csv',index_col='user_id')\n",
    "u_res_cent = pd.read_csv('user_res_cent.csv',index_col='user_id')\n",
    "u_del_res = pd.read_csv('user_del_res.csv',index_col='user_id')\n",
    "u_rev_res = pd.read_csv('user_res_list.csv',index_col='user_id')"
   ]
  },
  {
   "cell_type": "code",
   "execution_count": 66,
   "metadata": {},
   "outputs": [],
   "source": [
    "#remove those users who does not have delivery centroid\n",
    "rm_user = []\n",
    "for i in u_res_cent.index:\n",
    "    if i not in u_del_cent.index:\n",
    "        rm_user.append(i)\n",
    "u_res_cent=u_res_cent.drop(rm_user)"
   ]
  },
  {
   "cell_type": "code",
   "execution_count": 67,
   "metadata": {},
   "outputs": [],
   "source": [
    "#convert the location into lists\n",
    "def modify(s):\n",
    "    l=s.split(',')\n",
    "    p=[round(float(x),4) for x in l[::2]]\n",
    "    q=[round(float(x),4) for x in l[1::2]]\n",
    "    r=[]\n",
    "    for i in range(len(p)):\n",
    "        r.append([p[i],q[i]])\n",
    "    return r"
   ]
  },
  {
   "cell_type": "code",
   "execution_count": 68,
   "metadata": {},
   "outputs": [],
   "source": [
    "for i in range(u_del_cent.shape[0]):\n",
    "    u_del_cent.iloc[i]['centroid']=modify(u_del_cent.iloc[i]['centroid'])\n",
    "for i in range(u_res_cent.shape[0]):\n",
    "    u_res_cent.iloc[i]['centroid']=modify(u_res_cent.iloc[i]['centroid'])"
   ]
  },
  {
   "cell_type": "code",
   "execution_count": 69,
   "metadata": {},
   "outputs": [],
   "source": [
    "#get the list of restaurants for plotting\n",
    "for i in range(u_del_res.shape[0]):\n",
    "    u_del_res.iloc[i]['res_list'] = u_del_res.iloc[i]['res_list'].split(',')\n",
    "for i in range(u_rev_res.shape[0]):\n",
    "    u_rev_res.iloc[i]['res_list'] = u_rev_res.iloc[i]['res_list'].split(',')"
   ]
  },
  {
   "cell_type": "code",
   "execution_count": 70,
   "metadata": {},
   "outputs": [
    {
     "name": "stdout",
     "output_type": "stream",
     "text": [
      "11527\r"
     ]
    }
   ],
   "source": [
    "#get the data to plot user location based on delivery\n",
    "cnt = 0\n",
    "user_del = {}\n",
    "for i in u_del_cent.index:\n",
    "    res_list = []\n",
    "    r_list = u_del_res.loc[i]['res_list']\n",
    "    for r in r_list:\n",
    "        f = {}\n",
    "        if r in res_loc.index:\n",
    "            f['name'] = r\n",
    "            f['lat'] = round(res_loc.loc[r]['lat'],4)\n",
    "            f['long'] = round(res_loc.loc[r]['long'],4)\n",
    "            res_list.append(f)\n",
    "    if len(res_list)>0:\n",
    "        cnt += 1\n",
    "        print(cnt,end = '\\r')\n",
    "        user_del[i] = pd.DataFrame(res_list)"
   ]
  },
  {
   "cell_type": "code",
   "execution_count": 71,
   "metadata": {},
   "outputs": [
    {
     "name": "stdout",
     "output_type": "stream",
     "text": [
      "11527\r"
     ]
    }
   ],
   "source": [
    "#get the data to plot user location based on review\n",
    "cnt = 0\n",
    "user_rev = {}\n",
    "for i in u_res_cent.index:\n",
    "    res_list = []\n",
    "    r_list = u_rev_res.loc[i]['res_list']\n",
    "    for r in r_list:\n",
    "        f = {}\n",
    "        if r in res_loc.index:\n",
    "            f['name'] = r\n",
    "            f['lat'] = round(res_loc.loc[r]['lat'],4)\n",
    "            f['long'] = round(res_loc.loc[r]['long'],4)\n",
    "            res_list.append(f)\n",
    "    if len(res_list)>0:\n",
    "        cnt += 1 \n",
    "        print(cnt,end = '\\r')\n",
    "        user_rev[i] = pd.DataFrame(res_list)"
   ]
  },
  {
   "cell_type": "code",
   "execution_count": 72,
   "metadata": {},
   "outputs": [],
   "source": [
    "#plot the map using folium lib\n",
    "def get_map(uid,u_del_cent,u_res_cent,user_del,user_rev):\n",
    "    del_cen = u_del_cent.loc[uid]['centroid']\n",
    "    res_cen = u_res_cent.loc[uid]['centroid']\n",
    "    del_data = user_del[uid]\n",
    "    rev_data = user_rev[uid]\n",
    "    m=folium.Map(location=del_cen[0])\n",
    "    fgrr=folium.FeatureGroup(name='Review Restaurants')\n",
    "    for i in range(rev_data.shape[0]):\n",
    "        folium.Marker([rev_data.iloc[i]['lat'], rev_data.iloc[i]['long']], popup=rev_data.iloc[i]['name'],icon=folium.Icon(color='blue', icon='info-sign')).add_to(fgrr)\n",
    "    fgdr=folium.FeatureGroup(name='Delivery Restaurants')\n",
    "    for i in range(del_data.shape[0]):\n",
    "        folium.Marker([del_data.iloc[i]['lat'], del_data.iloc[i]['long']], popup=del_data.iloc[i]['name'],icon=folium.Icon(color='black', icon='info-sign')).add_to(fgdr)\n",
    "    fgdl=folium.FeatureGroup(name='Delivery Locations')\n",
    "    for i in range(len(del_cen)):\n",
    "        folium.Marker(del_cen[i],popup='del addr:{}'.format(i+1),icon=folium.Icon(color='red', icon='remove-sign')).add_to(fgdl)\n",
    "    fgrl=folium.FeatureGroup(name='Eating Locations')\n",
    "    for i in range(len(res_cen)):\n",
    "        folium.Marker(res_cen[i],popup='rev addr:{}'.format(i+1),icon=folium.Icon(color='purple', icon='remove-sign')).add_to(fgrl)\n",
    "    m.add_child(fgrr)\n",
    "    m.add_child(fgdr)\n",
    "    m.add_child(fgrl)\n",
    "    m.add_child(fgdl)\n",
    "    m.add_child(folium.LayerControl())\n",
    "    m.save('maps/{}.html'.format(uid))"
   ]
  },
  {
   "cell_type": "code",
   "execution_count": 75,
   "metadata": {
    "scrolled": true
   },
   "outputs": [
    {
     "name": "stdout",
     "output_type": "stream",
     "text": [
      "11526\r"
     ]
    }
   ],
   "source": [
    "#get the user ids and plot the maps\n",
    "u_ids=u_del_cent.index\n",
    "for i,uid in enumerate(u_ids):\n",
    "    get_map(uid,u_del_cent,u_res_cent,user_del,user_rev)\n",
    "    print(i,end='\\r')"
   ]
  }
 ],
 "metadata": {
  "kernelspec": {
   "display_name": "Python 3",
   "language": "python",
   "name": "python3"
  },
  "language_info": {
   "codemirror_mode": {
    "name": "ipython",
    "version": 3
   },
   "file_extension": ".py",
   "mimetype": "text/x-python",
   "name": "python",
   "nbconvert_exporter": "python",
   "pygments_lexer": "ipython3",
   "version": "3.7.2"
  }
 },
 "nbformat": 4,
 "nbformat_minor": 2
}
