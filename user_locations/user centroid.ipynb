{
 "cells": [
  {
   "cell_type": "code",
   "execution_count": 1,
   "metadata": {},
   "outputs": [],
   "source": [
    "import pandas as pd\n",
    "import numpy as np\n",
    "from sklearn.cluster import DBSCAN\n",
    "import matplotlib.pyplot as plt\n",
    "%matplotlib inline"
   ]
  },
  {
   "cell_type": "code",
   "execution_count": 2,
   "metadata": {},
   "outputs": [],
   "source": [
    "def ll_to_xyz(lat,lon):\n",
    "    R=6371 #in KM\n",
    "    lat=lat*np.pi/180.0\n",
    "    lon=lon*np.pi/180.0\n",
    "    x=R*np.cos(lat)*np.cos(lon)\n",
    "    y=R*np.cos(lat)*np.sin(lon)\n",
    "    z=R*np.sin(lat)\n",
    "    return x,y,z\n",
    "def xyz_to_ll(l):\n",
    "    R=6371 # in KM\n",
    "    lat=np.arcsin(l[2]/R)*180.0/np.pi\n",
    "    lon=np.arctan2(l[1],l[0])*180.0/np.pi\n",
    "    return lat,lon\n",
    "def centroid(arr):\n",
    "    l = len(arr)\n",
    "    s=np.sum(arr,axis=0)\n",
    "    s/=l\n",
    "    return s "
   ]
  },
  {
   "cell_type": "code",
   "execution_count": 3,
   "metadata": {},
   "outputs": [],
   "source": [
    "u_rev=pd.read_csv('total_user_review.csv',index_col='User_id',low_memory=False)"
   ]
  },
  {
   "cell_type": "code",
   "execution_count": null,
   "metadata": {},
   "outputs": [],
   "source": [
    "u_rev=u_rev.drop(columns=['Review_id','User_name','Rating','Datetime'])"
   ]
  },
  {
   "cell_type": "code",
   "execution_count": null,
   "metadata": {},
   "outputs": [],
   "source": [
    "ids=list(set(u_rev.index))"
   ]
  },
  {
   "cell_type": "code",
   "execution_count": null,
   "metadata": {},
   "outputs": [
    {
     "name": "stdout",
     "output_type": "stream",
     "text": [
      "\t2107\r"
     ]
    }
   ],
   "source": [
    "f={}\n",
    "q=0\n",
    "for i in range(len(ids)):\n",
    "    k=0\n",
    "    t1=pd.DataFrame(u_rev.loc[ids[i]])\n",
    "    res=[]\n",
    "    for index,row in t1.iterrows():\n",
    "        try:\n",
    "            review=str(row['Review']).lower()\n",
    "            if 'deliver' in review or 'swiggy' in review or 'foodpanda' in review or 'packing' in review or 'sent' in review:\n",
    "                res.append(str(row['Name']).strip())\n",
    "                k+=1\n",
    "        except:\n",
    "            pass\n",
    "    if k>0:\n",
    "        q+=1\n",
    "        print('\\t{}'.format(q),end='\\r')\n",
    "        f[i]=list(set(res))"
   ]
  },
  {
   "cell_type": "code",
   "execution_count": null,
   "metadata": {},
   "outputs": [],
   "source": [
    "wr=['user_id,res_list']\n",
    "for i in f:\n",
    "    l=','.join(f[i])\n",
    "    wr.append('{},\"{}\"'.format(ids[i],l))\n",
    "#wr='\\n'.format(wr)\n",
    "\n",
    "wr='\\n'.join(wr)\n",
    "\n",
    "with open('user_del_res.csv','w',encoding='utf8') as fl:\n",
    "    fl.write(wr)\n",
    "\n"
   ]
  },
  {
   "cell_type": "code",
   "execution_count": null,
   "metadata": {},
   "outputs": [],
   "source": [
    "req=[ids[i] for i in f.keys()]"
   ]
  },
  {
   "cell_type": "code",
   "execution_count": null,
   "metadata": {},
   "outputs": [],
   "source": [
    "fi={}\n",
    "q=0\n",
    "for r in req:\n",
    "    k=0\n",
    "    t1=pd.DataFrame(u_rev.loc[r])\n",
    "    try:\n",
    "        res=[x.strip() for x in t1.Name]\n",
    "    except:\n",
    "        res=[]\n",
    "    if len(res)>0:\n",
    "        q+=1\n",
    "        print('\\t{}'.format(q),end='\\r')\n",
    "        fi[r]=list(set(res))"
   ]
  },
  {
   "cell_type": "code",
   "execution_count": null,
   "metadata": {},
   "outputs": [],
   "source": [
    "wr=['user_id,res_list']\n",
    "for i in fi:\n",
    "    l=','.join(fi[i])\n",
    "    wr.append('{},\"{}\"'.format(i,l))\n",
    "#wr='\\n'.format(wr)\n",
    "\n",
    "wr='\\n'.join(wr)\n",
    "\n",
    "with open('user_res_list.csv','w',encoding='utf8') as fl:\n",
    "    fl.write(wr)\n",
    "\n"
   ]
  },
  {
   "cell_type": "code",
   "execution_count": null,
   "metadata": {},
   "outputs": [],
   "source": [
    "def res_to_xyz(res):\n",
    "    l=[]\n",
    "    for r in res:\n",
    "        try:\n",
    "            f={}\n",
    "            f['x'],f['y'],f['z']=ll_to_xyz(lcd.loc[r]['lat'],lcd.loc[r]['long'])\n",
    "            l.append(f)\n",
    "        except Exception as e:\n",
    "            #print(e)\n",
    "            pass\n",
    "    return pd.DataFrame(l)\n",
    "def df_to_labels(df):\n",
    "    db=DBSCAN(8,3)\n",
    "    db.fit_predict(df)\n",
    "    return db.labels_\n",
    "def final_xyz(df,labels):\n",
    "    l=[]\n",
    "    f={}\n",
    "    for i in range(df.shape[0]):\n",
    "        if labels[i]==-1:\n",
    "            l.append(list(df.iloc[i]))\n",
    "        else:\n",
    "            lb=labels[i]\n",
    "            if lb not in f:\n",
    "                f[lb]=[]\n",
    "            f[lb].append(list(df.iloc[i]))\n",
    "    for lb in f:\n",
    "        l.append(centroid(f[lb]))\n",
    "    return l\n",
    "def get_centroid_ll(df,labels):\n",
    "    ll=final_xyz(df,labels)\n",
    "    for i in range(len(ll)):\n",
    "        ll[i]=xyz_to_ll(ll[i])\n",
    "    return ll\n",
    "def res_to_centroid(res):\n",
    "    df=res_to_xyz(res)\n",
    "    labels=df_to_labels(df)\n",
    "    cent=get_centroid_ll(df,labels)\n",
    "    return cent"
   ]
  },
  {
   "cell_type": "code",
   "execution_count": 19,
   "metadata": {},
   "outputs": [],
   "source": [
    "def get_df(res):\n",
    "    l=[]\n",
    "    for r in res:\n",
    "        try:\n",
    "            l.append(lcd.loc[r])\n",
    "        except Exception as e:\n",
    "            #print(e,1)\n",
    "            pass\n",
    "    return pd.DataFrame(l)\n",
    "def df_to_labels_2(df):\n",
    "    kms_per_radian = 6371.0088\n",
    "    eps = 8.0 / kms_per_radian\n",
    "    db=DBSCAN(eps=eps,min_samples=2,algorithm='ball_tree', metric='haversine')\n",
    "    db.fit_predict(np.radians(df))\n",
    "    return db.labels_\n",
    "def final_ll(df,labels):\n",
    "    l=[]\n",
    "    f={}\n",
    "    for i in range(df.shape[0]):\n",
    "        if labels[i]==-1:\n",
    "            l.append(list(df.iloc[i]))\n",
    "        else:\n",
    "            lb=labels[i]\n",
    "            if lb not in f:\n",
    "                f[lb]=[]\n",
    "            f[lb].append(list(df.iloc[i]))\n",
    "    for lb in f:\n",
    "        l.append(centroid(f[lb]))\n",
    "    return l\n",
    "def res_to_centroid_2(res):\n",
    "    df=get_df(res)\n",
    "    labels=df_to_labels_2(df)\n",
    "    cent=final_ll(df,labels)\n",
    "    return cent"
   ]
  },
  {
   "cell_type": "code",
   "execution_count": 20,
   "metadata": {},
   "outputs": [],
   "source": [
    "def get_simplified(l):\n",
    "    q=[]\n",
    "    for i in l:\n",
    "        for j in i:\n",
    "            q.append(j)\n",
    "    s=','.join([str(x) for x in q])\n",
    "    return s"
   ]
  },
  {
   "cell_type": "code",
   "execution_count": 21,
   "metadata": {},
   "outputs": [],
   "source": [
    "lcd=pd.read_csv('res_location.csv',index_col='res')\n",
    "df1=pd.read_csv('user_del_res.csv')"
   ]
  },
  {
   "cell_type": "code",
   "execution_count": 22,
   "metadata": {},
   "outputs": [
    {
     "name": "stdout",
     "output_type": "stream",
     "text": [
      "11527\r"
     ]
    }
   ],
   "source": [
    "l=[]\n",
    "j=0\n",
    "for i in range(df1.shape[0]):\n",
    "    try:\n",
    "        f={}\n",
    "        f['user_id']=df1.iloc[i]['user_id']\n",
    "        res=df1.iloc[i]['res_list'].split(',')\n",
    "        f['centroid']=get_simplified(res_to_centroid_2(res))\n",
    "        l.append(f)\n",
    "        j+=1\n",
    "        print(j,end='\\r')\n",
    "    except Exception as e:\n",
    "        #print(e,2)\n",
    "        pass\n",
    "    #break\n",
    "cent=pd.DataFrame(l)"
   ]
  },
  {
   "cell_type": "code",
   "execution_count": 23,
   "metadata": {},
   "outputs": [],
   "source": [
    "cent.to_csv('user_del_cent.csv',index=False)"
   ]
  },
  {
   "cell_type": "code",
   "execution_count": 24,
   "metadata": {},
   "outputs": [],
   "source": [
    "lcd=pd.read_csv('res_location.csv',index_col='res')\n",
    "df1=pd.read_csv('user_res_list.csv')"
   ]
  },
  {
   "cell_type": "code",
   "execution_count": 25,
   "metadata": {},
   "outputs": [
    {
     "name": "stdout",
     "output_type": "stream",
     "text": [
      "16276\r"
     ]
    }
   ],
   "source": [
    "l=[]\n",
    "j=0\n",
    "for i in range(df1.shape[0]):\n",
    "    try:\n",
    "        f={}\n",
    "        f['user_id']=df1.iloc[i]['user_id']\n",
    "        res=df1.iloc[i]['res_list'].split(',')\n",
    "        f['centroid']=get_simplified(res_to_centroid_2(res))\n",
    "        l.append(f)\n",
    "        j+=1\n",
    "        print(j,end='\\r')\n",
    "    except Exception as e:\n",
    "        #print(e,2)\n",
    "        pass\n",
    "    #break\n",
    "cent=pd.DataFrame(l)"
   ]
  },
  {
   "cell_type": "code",
   "execution_count": 26,
   "metadata": {},
   "outputs": [],
   "source": [
    "cent.to_csv('user_res_cent.csv',index=False)"
   ]
  },
  {
   "cell_type": "code",
   "execution_count": null,
   "metadata": {},
   "outputs": [],
   "source": []
  }
 ],
 "metadata": {
  "kernelspec": {
   "display_name": "Python 3",
   "language": "python",
   "name": "python3"
  },
  "language_info": {
   "codemirror_mode": {
    "name": "ipython",
    "version": 3
   },
   "file_extension": ".py",
   "mimetype": "text/x-python",
   "name": "python",
   "nbconvert_exporter": "python",
   "pygments_lexer": "ipython3",
   "version": "3.7.2"
  }
 },
 "nbformat": 4,
 "nbformat_minor": 2
}
