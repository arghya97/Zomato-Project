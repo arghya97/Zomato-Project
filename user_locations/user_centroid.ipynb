{
 "cells": [
  {
   "cell_type": "code",
   "execution_count": 1,
   "metadata": {},
   "outputs": [],
   "source": [
    "#importing the libraries\n",
    "import pandas as pd\n",
    "import numpy as np\n",
    "from sklearn.cluster import DBSCAN"
   ]
  },
  {
   "cell_type": "code",
   "execution_count": 3,
   "metadata": {},
   "outputs": [],
   "source": [
    "#get the user reviews as csv file and keep only the required columns\n",
    "u_rev = pd.read_csv('zomato_user_review.csv',index_col = 'User_id',low_memory = False)\n",
    "u_rev = u_rev.drop(columns = ['Review_id','User_name','Rating','Datetime'])\n",
    "\n",
    "#get list of user ids\n",
    "u_ids = list(set(u_rev.index))"
   ]
  },
  {
   "cell_type": "code",
   "execution_count": 7,
   "metadata": {},
   "outputs": [
    {
     "name": "stdout",
     "output_type": "stream",
     "text": [
      "\t16613\r"
     ]
    }
   ],
   "source": [
    "#get the list of restaurants from which the user has taken delivery for each user\n",
    "u_res_del = {}\n",
    "cntr = 0\n",
    "for u in u_ids:\n",
    "    n_res = 0\n",
    "    u_data = pd.DataFrame(u_rev.loc[u])\n",
    "    res = []\n",
    "    for index,row in u_data.iterrows():\n",
    "        try:\n",
    "            review = str(row['Review']).lower()\n",
    "            if 'deliver' in review or 'swiggy' in review or 'foodpanda' in review or 'packing' in review or 'sent' in review:\n",
    "                res.append(str(row['Name']).strip())\n",
    "                n_res += 1\n",
    "        except:\n",
    "            pass\n",
    "    if n_res > 0:\n",
    "        cntr += 1\n",
    "        print('\\t{}'.format(cntr),end ='\\r')\n",
    "        u_res_del[u] = list(set(res))"
   ]
  },
  {
   "cell_type": "code",
   "execution_count": 10,
   "metadata": {},
   "outputs": [],
   "source": [
    "#print the user list along with their restaurant list\n",
    "write_fl = ['user_id,res_list']\n",
    "for u in u_res_del:\n",
    "    line = ','.join(u_res_del[u])\n",
    "    write_fl.append('{},\"{}\"'.format(u,line))\n",
    "\n",
    "write_fl = '\\n'.join(write_fl)\n",
    "\n",
    "with open('user_del_res.csv','w',encoding = 'utf8') as fl:\n",
    "    fl.write(write_fl)"
   ]
  },
  {
   "cell_type": "code",
   "execution_count": 11,
   "metadata": {},
   "outputs": [],
   "source": [
    "#the list of users for which the plotting will be done\n",
    "u_mod = [u for u in u_res_del.keys()]"
   ]
  },
  {
   "cell_type": "code",
   "execution_count": 12,
   "metadata": {},
   "outputs": [
    {
     "name": "stdout",
     "output_type": "stream",
     "text": [
      "\t16613\r"
     ]
    }
   ],
   "source": [
    "#get the list of restaurants which the user has reviewed for each user\n",
    "u_res_rev = {}\n",
    "cntr = 0\n",
    "for u in u_mod:\n",
    "    u_data = pd.DataFrame(u_rev.loc[u])\n",
    "    try:\n",
    "        res=[x.strip() for x in u_data.Name]\n",
    "    except:\n",
    "        res=[]\n",
    "    if len(res) > 0:\n",
    "        cntr += 1\n",
    "        print('\\t{}'.format(cntr),end = '\\r')\n",
    "        u_res_rev[u] = list(set(res))"
   ]
  },
  {
   "cell_type": "code",
   "execution_count": 14,
   "metadata": {},
   "outputs": [],
   "source": [
    "#print the user list along with their restaurant list\n",
    "write_fl = ['user_id,res_list']\n",
    "for u in u_res_rev:\n",
    "    line = ','.join(u_res_rev[u])\n",
    "    write_fl.append('{},\"{}\"'.format(u,line))\n",
    "\n",
    "write_fl = '\\n'.join(write_fl)\n",
    "\n",
    "with open('user_res_list.csv','w',encoding='utf8') as fl:\n",
    "    fl.write(write_fl)"
   ]
  },
  {
   "cell_type": "code",
   "execution_count": 2,
   "metadata": {},
   "outputs": [],
   "source": [
    "#some helper functions\n",
    "def centroid(arr):\n",
    "    l = len(arr)\n",
    "    s = np.sum(arr,axis=0)\n",
    "    s /= l\n",
    "    return s \n",
    "\n",
    "#convert list to printable string\n",
    "def get_simplified_string(points):\n",
    "    l = []\n",
    "    for p in points:\n",
    "        for i in p:\n",
    "            l.append(i)\n",
    "    s = ','.join([str(x) for x in l])\n",
    "    return s\n",
    "\n",
    "#get res dataset for each user for clustering\n",
    "def get_res_df(res_loc,res):\n",
    "    l = []\n",
    "    for r in res:\n",
    "        try:\n",
    "            l.append(res_loc.loc[r])\n",
    "        except Exception as e:\n",
    "            pass\n",
    "    return pd.DataFrame(l)\n",
    "\n",
    "#DBSCAN clustering\n",
    "def df_to_labels(df):\n",
    "    kms_per_radian = 6371.0088\n",
    "    eps = 8.0 / kms_per_radian\n",
    "    db = DBSCAN(eps = eps,min_samples = 2,algorithm = 'ball_tree', metric = 'haversine')\n",
    "    db.fit_predict(np.radians(df))\n",
    "    return db.labels_\n",
    "\n",
    "#calculate final centroid of each cluster\n",
    "def final_ll(res_df,labels):\n",
    "    l_cent = []\n",
    "    cluster_points = {}\n",
    "    for i in range(res_df.shape[0]):\n",
    "        if labels[i] == -1:\n",
    "            l_cent.append(list(res_df.iloc[i]))\n",
    "        else:\n",
    "            lb = labels[i]\n",
    "            if lb not in cluster_points:\n",
    "                cluster_points[lb] = []\n",
    "            cluster_points[lb].append(list(res_df.iloc[i]))\n",
    "    for lb in cluster_points:\n",
    "        l_cent.append(centroid(cluster_points[lb]))\n",
    "    return l_cent\n",
    "\n",
    "#calcuate centroid from restaurant list\n",
    "def res_to_centroid(res,res_loc):\n",
    "    res_df = get_res_df(res_loc,res)\n",
    "    labels = df_to_labels(res_df)\n",
    "    cent = final_ll(res_df,labels)\n",
    "    return cent"
   ]
  },
  {
   "cell_type": "code",
   "execution_count": 89,
   "metadata": {},
   "outputs": [],
   "source": [
    "#load the dataset\n",
    "res_loc = pd.read_csv('res_location.csv',index_col='res')\n",
    "del_res = pd.read_csv('user_del_res.csv')"
   ]
  },
  {
   "cell_type": "code",
   "execution_count": 104,
   "metadata": {},
   "outputs": [],
   "source": [
    "#get centroid based on restaurant delivered for each user\n",
    "u_cent = []\n",
    "for i in range(del_res.shape[0]):\n",
    "    try:\n",
    "        data = {}\n",
    "        data['user_id'] = del_res.iloc[i]['user_id']\n",
    "        res = del_res.iloc[i]['res_list'].split(',')\n",
    "        data['centroid'] = get_simplified(res_to_centroid(res,res_loc))\n",
    "        u_cent.append(data)\n",
    "    except Exception as e:\n",
    "        pass\n",
    "cent=pd.DataFrame(u_cent)\n",
    "cent.to_csv('user_del_cent.csv',index = False)"
   ]
  },
  {
   "cell_type": "code",
   "execution_count": 3,
   "metadata": {},
   "outputs": [],
   "source": [
    "#load the dataset\n",
    "res_loc = pd.read_csv('res_location.csv',index_col='res')\n",
    "rev_res = pd.read_csv('user_res_list.csv')"
   ]
  },
  {
   "cell_type": "code",
   "execution_count": 11,
   "metadata": {},
   "outputs": [],
   "source": [
    "#get centroid based on restaurant reviewed for each user\n",
    "u_cent = []\n",
    "for i in range(rev_res.shape[0]):\n",
    "    try:\n",
    "        data = {}\n",
    "        data['user_id'] = rev_res.iloc[i]['user_id']\n",
    "        res = rev_res.iloc[i]['res_list'].split(',')\n",
    "        data['centroid'] = get_simplified_string(res_to_centroid(res,res_loc))\n",
    "        u_cent.append(data)\n",
    "    except Exception as e:\n",
    "        pass\n",
    "u_res_cent = pd.DataFrame(u_cent)\n",
    "u_res_cent.to_csv('user_res_cent.csv',index = False)"
   ]
  },
  {
   "cell_type": "code",
   "execution_count": null,
   "metadata": {},
   "outputs": [],
   "source": []
  }
 ],
 "metadata": {
  "kernelspec": {
   "display_name": "Python 3",
   "language": "python",
   "name": "python3"
  },
  "language_info": {
   "codemirror_mode": {
    "name": "ipython",
    "version": 3
   },
   "file_extension": ".py",
   "mimetype": "text/x-python",
   "name": "python",
   "nbconvert_exporter": "python",
   "pygments_lexer": "ipython3",
   "version": "3.7.2"
  }
 },
 "nbformat": 4,
 "nbformat_minor": 2
}
